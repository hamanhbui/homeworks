{
  "nbformat": 4,
  "nbformat_minor": 0,
  "metadata": {
    "colab": {
      "provenance": [],
      "toc_visible": true
    },
    "kernelspec": {
      "name": "python3",
      "display_name": "Python 3"
    },
    "language_info": {
      "name": "python"
    }
  },
  "cells": [
    {
      "cell_type": "code",
      "execution_count": 4,
      "metadata": {
        "id": "QgJfHcaMejyC"
      },
      "outputs": [],
      "source": [
        "import numpy as np\n",
        "import pandas as pd\n",
        "\n",
        "def find_projection(y, c):\n",
        "    y_hat = np.concatenate((y, y - 1), axis=0)\n",
        "    y_hat = np.sort(y_hat)\n",
        "    list_S = []\n",
        "    for k in range(len(y_hat)):\n",
        "        S_k = 0\n",
        "        for l in range(len(y)):\n",
        "            S_k += max(0, min(1, y[l] - y_hat[k]))\n",
        "        list_S.append(S_k)\n",
        "    max_k = 0\n",
        "    for k in range(len(list_S) - 1):\n",
        "        if list_S[k] >= c and max_k < k:\n",
        "            max_k = k\n",
        "    ld = y_hat[max_k] + ((c-list_S[max_k])/(list_S[max_k+1]-list_S[max_k])) * (y_hat[max_k+1]-y_hat[max_k])\n",
        "    list_k, list_x_bar_k = [], []\n",
        "    for k in range(len(y)):\n",
        "        x_bar_k = max(0, min(1, y[k] - ld))\n",
        "        if x_bar_k > 0.001:\n",
        "            list_k.append(k + 1)\n",
        "            list_x_bar_k.append(x_bar_k)\n",
        "    return list_k, list_x_bar_k"
      ]
    },
    {
      "cell_type": "code",
      "source": [
        "if __name__ == \"__main__\":\n",
        "    y = pd.read_csv('homework3_data/project3_vector-1.csv')\n",
        "    y = y.drop(['Unnamed: 0'], axis=1).to_numpy()\n",
        "    y = np.squeeze(y)\n",
        "    list_k, list_x_bar_k = find_projection(y, 5)\n",
        "    print(\"List of indexes k for which \" + r'$\\Bar{x}^{(k)}>0.001$' + \" is: \" + str(list_k))\n",
        "    print(\"The corresponding values of \" + r'$\\Bar{x}^{(k)}$' + \" is: \" + str(list_x_bar_k))"
      ],
      "metadata": {
        "colab": {
          "base_uri": "https://localhost:8080/"
        },
        "id": "nQolas6rezmK",
        "outputId": "09925abc-e73a-4a1a-8c3f-a9cebcff4873"
      },
      "execution_count": 5,
      "outputs": [
        {
          "output_type": "stream",
          "name": "stdout",
          "text": [
            "List of indexes k for which $\\Bar{x}^{(k)}>0.001$ is: [49, 68, 206, 228, 281, 376, 452, 497, 498]\n",
            "The corresponding values of $\\Bar{x}^{(k)}$ is: [0.0839953209484312, 0.25839430088050275, 0.10459693409061721, 1, 0.03567055250967144, 1, 1, 0.5173428915707792, 1]\n"
          ]
        }
      ]
    },
    {
      "cell_type": "code",
      "source": [
        "if __name__ == \"__main__\":\n",
        "    list_k, list_x_bar_k = find_projection(y, 10)\n",
        "    print(\"List of indexes k for which \" + r'$\\Bar{x}^{(k)}>0.001$' + \" is: \" + str(list_k))\n",
        "    print(\"The corresponding values of \" + r'$\\Bar{x}^{(k)}$' + \" is: \" + str(list_x_bar_k))"
      ],
      "metadata": {
        "colab": {
          "base_uri": "https://localhost:8080/"
        },
        "id": "QC_3IwSse2Js",
        "outputId": "565242cf-50f2-43dc-ccc6-84c9cb88dbc0"
      },
      "execution_count": 6,
      "outputs": [
        {
          "output_type": "stream",
          "name": "stdout",
          "text": [
            "List of indexes k for which $\\Bar{x}^{(k)}>0.001$ is: [49, 50, 68, 147, 195, 206, 228, 269, 271, 281, 376, 442, 452, 462, 497, 498]\n",
            "The corresponding values of $\\Bar{x}^{(k)}$ is: [0.7332409375537354, 0.5420354481210454, 0.907639917485807, 0.028254119021628554, 0.46771472880659104, 0.7538425506959214, 1, 0.2813180980938137, 0.0546738075137867, 0.6849161691149757, 1, 0.3267186965769273, 1, 0.21964552701576956, 1, 1]\n"
          ]
        }
      ]
    }
  ]
}
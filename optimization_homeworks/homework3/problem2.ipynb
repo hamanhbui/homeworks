{
  "nbformat": 4,
  "nbformat_minor": 0,
  "metadata": {
    "colab": {
      "provenance": []
    },
    "kernelspec": {
      "name": "python3",
      "display_name": "Python 3"
    },
    "language_info": {
      "name": "python"
    }
  },
  "cells": [
    {
      "cell_type": "code",
      "execution_count": 1,
      "metadata": {
        "id": "lgcyuj_NqNDS"
      },
      "outputs": [],
      "source": [
        "import numpy as np\n",
        "import pandas as pd\n",
        "import torch\n",
        "\n",
        "def find_projection(y, c):\n",
        "    y_hat = np.concatenate((y, y - 1), axis=0)\n",
        "    y_hat = np.sort(y_hat)\n",
        "    list_S = []\n",
        "    for k in range(len(y_hat)):\n",
        "        S_k = 0\n",
        "        for l in range(len(y)):\n",
        "            S_k += max(0, min(1, y[l] - y_hat[k]))\n",
        "        list_S.append(S_k)\n",
        "    max_k = 0\n",
        "    for k in range(len(list_S) - 1):\n",
        "        if list_S[k] >= c and max_k < k:\n",
        "            max_k = k\n",
        "    ld = y_hat[max_k] + ((c-list_S[max_k])/(list_S[max_k+1]-list_S[max_k])) * (y_hat[max_k+1]-y_hat[max_k])\n",
        "    list_x_bar_k = []\n",
        "    for k in range(len(y)):\n",
        "        x_bar_k = max(0, min(1, y[k] - ld))\n",
        "        list_x_bar_k.append(x_bar_k)\n",
        "    return list_x_bar_k\n",
        "\n",
        "def func_F(y, z, X):\n",
        "    out = 0\n",
        "    for i in range(X.shape[0]):\n",
        "        for k in range(X.shape[1]):\n",
        "            out += (X[i][k] - y[i]*z[k])**2\n",
        "    return (1/2) * out\n",
        "\n",
        "def grad_F(y, z, X):\n",
        "    y_clone = y.clone()\n",
        "    y_clone = y_clone.detach().requires_grad_()\n",
        "    out = func_F(y_clone, z, X)\n",
        "    out.backward()\n",
        "    return y_clone.grad\n",
        "\n",
        "def project_grad_descent(X, z, eta, alpha, T):\n",
        "    for i in range(T):\n",
        "        eta = torch.tensor(find_projection((eta-alpha*grad_F(eta, z, X)).numpy(), 1), dtype = torch.float64)\n",
        "    return eta"
      ]
    },
    {
      "cell_type": "code",
      "source": [
        "if __name__ == \"__main__\":\n",
        "    X = pd.read_csv('homework3_data/project3_matrix.csv')\n",
        "    X = X.drop(['Unnamed: 0'], axis=1).to_numpy()\n",
        "    X = torch.tensor(X, dtype = torch.float64)\n",
        "    alpha, T = 1e-5, 50\n",
        "    eta = torch.tensor([1/X.shape[0]] * X.shape[0], dtype = torch.float64)\n",
        "    z = (X.shape[0])**2 * torch.matmul(X.t(), eta)\n",
        "    eta = project_grad_descent(X, z, eta, alpha, T).numpy() \n",
        "    list_k, list_eta_k = [], []\n",
        "    for k in range(len(eta)):\n",
        "        if eta[k] > 0.001:\n",
        "            list_k.append(k + 1)\n",
        "            list_eta_k.append(eta[k])\n",
        "    print(\"List of indexes k for which \" + r'$\\eta_T^{(k)}>0.001$' + \" is: \" + str(list_k))\n",
        "    print(\"The corresponding values of \" + r'$\\eta_T^{(k)}$' + \" is: \" + str(list_eta_k))"
      ],
      "metadata": {
        "colab": {
          "base_uri": "https://localhost:8080/"
        },
        "id": "4_Hn66QhqRpQ",
        "outputId": "60efd675-a060-44de-88a4-7328e6882d70"
      },
      "execution_count": 2,
      "outputs": [
        {
          "output_type": "stream",
          "name": "stdout",
          "text": [
            "List of indexes k for which $\\eta_T^{(k)}>0.001$ is: [24, 36, 63, 96]\n",
            "The corresponding values of $\\eta_T^{(k)}$ is: [0.2802846365138505, 0.4170689676071295, 0.18152550727653338, 0.1211208886024866]\n"
          ]
        }
      ]
    },
    {
      "cell_type": "code",
      "source": [
        "def get_optim_z(y, X):\n",
        "    list_z = []\n",
        "    for k in range(X.shape[1]):\n",
        "        sum_Xy = 0\n",
        "        for i in range(X.shape[0]):\n",
        "            sum_Xy += X[i][k] * y[i]\n",
        "        sum_Xy = sum_Xy/(torch.norm(y)**2)\n",
        "        list_z.append(max(0, sum_Xy))\n",
        "    return list_z\n",
        "\n",
        "def project_grad_descent_y(X, y, alpha, T):\n",
        "    for i in range(100):\n",
        "        z_y = torch.tensor(get_optim_z(y, X), dtype = torch.float64)\n",
        "        y = project_grad_descent(X, z_y, y, alpha, T)\n",
        "    return y"
      ],
      "metadata": {
        "id": "yI-9Xx_VOoul"
      },
      "execution_count": 3,
      "outputs": []
    },
    {
      "cell_type": "code",
      "source": [
        "if __name__ == \"__main__\":\n",
        "    alpha, T = 1e-5, 10\n",
        "    y = torch.tensor([1/X.shape[0]] * X.shape[0], dtype = torch.float64)\n",
        "    y = project_grad_descent_y(X, y, alpha, T).numpy()\n",
        "    list_k, list_y_k = [], []\n",
        "    for k in range(len(y)):\n",
        "        if y[k] > 0.001:\n",
        "            list_k.append(k + 1)\n",
        "            list_y_k.append(y[k])\n",
        "    print(\"List of indexes k for which \" + r'$y^{(k)}>0.001$' + \" is: \" + str(list_k))\n",
        "    print(\"The corresponding values of \" + r'$y^{(k)}$' + \" is: \" + str(list_y_k))"
      ],
      "metadata": {
        "colab": {
          "base_uri": "https://localhost:8080/"
        },
        "id": "16_YpddjOq3j",
        "outputId": "c5510cf1-2deb-42fc-cbe5-b254e1d2d6ec"
      },
      "execution_count": 4,
      "outputs": [
        {
          "output_type": "stream",
          "name": "stdout",
          "text": [
            "List of indexes k for which $y^{(k)}>0.001$ is: [18, 24, 36, 46, 52, 58, 63, 72, 80, 96]\n",
            "The corresponding values of $y^{(k)}$ is: [0.109082660499241, 0.0962864473347163, 0.10164719426063612, 0.08132085817922366, 0.11305297011170733, 0.11095008460546285, 0.09241543700155856, 0.11335755192270829, 0.07842293120707078, 0.09005381861309705]\n"
          ]
        }
      ]
    }
  ]
}
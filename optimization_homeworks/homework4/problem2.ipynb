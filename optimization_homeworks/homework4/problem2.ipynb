{
  "cells": [
    {
      "cell_type": "code",
      "execution_count": 1,
      "metadata": {
        "id": "IFFmLoEuveLE"
      },
      "outputs": [],
      "source": [
        "import numpy as np\n",
        "import pandas as pd\n",
        "\n",
        "def func_f(y, lmda):\n",
        "    out = np.abs(y) - lmda\n",
        "    out = out * (out >= 0)\n",
        "    return np.sum(out)\n",
        "\n",
        "def find_lambda(y, c):\n",
        "    list_lmd_0, list_lmd_1 = [], []\n",
        "    for i in range(len(y)):\n",
        "        tmp = func_f(y, np.abs(y[i]))\n",
        "        if tmp >= c:\n",
        "            list_lmd_0.append(np.abs(y[i]))\n",
        "        if tmp <= c:\n",
        "            list_lmd_1.append(np.abs(y[i]))\n",
        "    lmda_1 = min(list_lmd_1)\n",
        "    if len(list_lmd_0) != 0:\n",
        "        lmda_0 = max(list_lmd_0)\n",
        "    else:\n",
        "        lmda_0 = 0\n",
        "    if lmda_0 == lmda_1:\n",
        "        return lmda_0\n",
        "    return lmda_0 + ((c - func_f(y, lmda_0))/(func_f(y, lmda_0) - func_f(y, lmda_1))) * (lmda_0 - lmda_1)\n",
        "\n",
        "def project(y, c):\n",
        "    lmda = find_lambda(y, c)\n",
        "    x = np.abs(y) - lmda\n",
        "    x = x * (x >= 0)\n",
        "    x = np.sign(y) * x \n",
        "    return x\n",
        "\n",
        "def problem2_2():\n",
        "    y = pd.read_csv('homework4_data/project4_vector-1.csv')\n",
        "    y = y.drop(['Unnamed: 0'], axis = 1).to_numpy()\n",
        "    y = np.squeeze(y)\n",
        "    list_c = [5, 10, 20, 100]\n",
        "    for c in list_c:\n",
        "        out = np.linalg.norm(y - project(y, c))**2\n",
        "        print(\"The value of \" + r'$|y-proj_{\\Omega_c}(y)|^2$' + \" for c = \" + str(c) + \" is: \" + str(out))"
      ]
    },
    {
      "cell_type": "code",
      "execution_count": 2,
      "metadata": {
        "colab": {
          "base_uri": "https://localhost:8080/"
        },
        "id": "Vm4F46pbgH_b",
        "outputId": "8c07b565-6c94-4e70-9ad3-a9e8520d9227"
      },
      "outputs": [
        {
          "output_type": "stream",
          "name": "stdout",
          "text": [
            "The value of $|y-proj_{\\Omega_c}(y)|^2$ for c = 5 is: 9797.346376053942\n",
            "The value of $|y-proj_{\\Omega_c}(y)|^2$ for c = 10 is: 9768.217407278022\n",
            "The value of $|y-proj_{\\Omega_c}(y)|^2$ for c = 20 is: 9713.883606540363\n",
            "The value of $|y-proj_{\\Omega_c}(y)|^2$ for c = 100 is: 9340.632835889344\n"
          ]
        }
      ],
      "source": [
        "if __name__ == \"__main__\":\n",
        "    problem2_2()"
      ]
    },
    {
      "cell_type": "code",
      "execution_count": 3,
      "metadata": {
        "id": "IYVpdftILaSh"
      },
      "outputs": [],
      "source": [
        "def conditional_grad(y, c):\n",
        "    def find_j(x, y):\n",
        "        j, max_j = 0, 0\n",
        "        for i in range(len(y)):\n",
        "            tmp = np.abs(x[i]-y[i])\n",
        "            if max_j < tmp:\n",
        "                max_j = tmp\n",
        "                j=i\n",
        "        return j\n",
        "\n",
        "    x = np.zeros(len(y))\n",
        "    for t in range(10000):\n",
        "        alpha = 2/(2+t)\n",
        "        j = find_j(x, y)\n",
        "        e = np.zeros(len(y))\n",
        "        e[j] = 1\n",
        "        x = (1-alpha)*x-c*alpha*np.sign(x[j]-y[j])*e\n",
        "    return x\n",
        "\n",
        "def problem2_5():\n",
        "    y = pd.read_csv('homework4_data/project4_vector-1.csv')\n",
        "    y = y.drop(['Unnamed: 0'], axis = 1).to_numpy()\n",
        "    y = np.squeeze(y)\n",
        "    list_c = [5, 10, 20, 100]\n",
        "    for c in list_c:\n",
        "        x_T = conditional_grad(y, c)\n",
        "        print(\"The value of \" + r'$|y-x_T|^2$' + \" for c = \" + str(c) + \" is: \" \n",
        "              + str(np.linalg.norm(y - x_T)**2))\n",
        "        print(\"The value of \" + r'$|x_T-proj_{\\Omega_c}(y)|^2$' + \" for c = \" + str(c) + \" is: \" \n",
        "              + str(np.linalg.norm(x_T - project(y, c))**2))"
      ]
    },
    {
      "cell_type": "code",
      "execution_count": 4,
      "metadata": {
        "colab": {
          "base_uri": "https://localhost:8080/"
        },
        "id": "iMSl31_XL_GD",
        "outputId": "95ed6072-271c-44e7-b4df-244fe4f1cafe"
      },
      "outputs": [
        {
          "output_type": "stream",
          "name": "stdout",
          "text": [
            "The value of $|y-x_T|^2$ for c = 5 is: 9797.346377942433\n",
            "The value of $|x_T-proj_{\\Omega_c}(y)|^2$ for c = 5 is: 1.8884932352928527e-06\n",
            "The value of $|y-x_T|^2$ for c = 10 is: 9768.217424264963\n",
            "The value of $|x_T-proj_{\\Omega_c}(y)|^2$ for c = 10 is: 1.2463814546991488e-05\n",
            "The value of $|y-x_T|^2$ for c = 20 is: 9713.883736900732\n",
            "The value of $|x_T-proj_{\\Omega_c}(y)|^2$ for c = 20 is: 0.00010089560776718761\n",
            "The value of $|y-x_T|^2$ for c = 100 is: 9340.645931864432\n",
            "The value of $|x_T-proj_{\\Omega_c}(y)|^2$ for c = 100 is: 0.010320629431984777\n"
          ]
        }
      ],
      "source": [
        "if __name__ == \"__main__\":\n",
        "    problem2_5()"
      ]
    },
    {
      "cell_type": "code",
      "execution_count": 5,
      "metadata": {
        "id": "4MVfwnDLgJwZ"
      },
      "outputs": [],
      "source": [
        "def conditional_grad_2(A, b, c):\n",
        "    def find_j(u):\n",
        "        j, max_j = 0, 0\n",
        "        for i in range(len(u)):\n",
        "            tmp = np.abs(u[i])\n",
        "            if max_j < tmp:\n",
        "                max_j = tmp\n",
        "                j = i\n",
        "        return j\n",
        "\n",
        "    x = np.zeros(A.shape[1])\n",
        "    for t in range(100000):\n",
        "        u = np.dot(A.T, np.dot(A,x)-b)\n",
        "        alpha = 2/(2+t)\n",
        "        j = find_j(u)\n",
        "        e = np.zeros(A.shape[1])\n",
        "        e[j] = 1\n",
        "        x = (1-alpha)*x-c*alpha*np.sign(u[j])*e\n",
        "    return x\n",
        "\n",
        "def problem2_7():\n",
        "    A = pd.read_csv('homework4_data/project4_regression_A-1.csv')\n",
        "    A = A.drop(['Unnamed: 0'], axis = 1).to_numpy()\n",
        "    A = np.squeeze(A)\n",
        "    b = pd.read_csv('homework4_data/project4_regression_b.csv')\n",
        "    b = b.drop(['Unnamed: 0'], axis = 1).to_numpy()\n",
        "    b = np.squeeze(b)\n",
        "    list_c = [5, 10, 15]\n",
        "    for c in list_c:\n",
        "        x_T = conditional_grad_2(A, b, c)\n",
        "        print(\"The value of \" + r'$|Ax_T-b|^2$' + \" for c = \" + str(c) + \" is: \" \n",
        "              + str(np.linalg.norm(np.dot(A,x_T)-b)**2))\n",
        "        list_max_x_T = np.sort(x_T)[-c:]\n",
        "        print(\"The indexes of the c = \" + str(c) + \" largest number in the set \" \n",
        "              + r'$\\{x_T^{(k)},k=1,\\cdots,n\\}$' + \" is: \")\n",
        "        for k in range(A.shape[1]):\n",
        "            if x_T[k] in list_max_x_T:\n",
        "                print(k, end = \" \")\n",
        "        print()"
      ]
    },
    {
      "cell_type": "code",
      "execution_count": 6,
      "metadata": {
        "colab": {
          "base_uri": "https://localhost:8080/"
        },
        "id": "d9S7gcDigdnf",
        "outputId": "40c803e1-0fbb-48ac-e5ee-d646ff2e6bc0"
      },
      "outputs": [
        {
          "output_type": "stream",
          "name": "stdout",
          "text": [
            "The value of $|Ax_T-b|^2$ for c = 5 is: 1361.2936729535782\n",
            "The indexes of the c = 5 largest number in the set $\\{x_T^{(k)},k=1,\\cdots,n\\}$ is: \n",
            "104 362 372 619 767 \n",
            "The value of $|Ax_T-b|^2$ for c = 10 is: 42.69954220008175\n",
            "The indexes of the c = 10 largest number in the set $\\{x_T^{(k)},k=1,\\cdots,n\\}$ is: \n",
            "104 362 372 451 477 538 619 629 767 789 \n",
            "The value of $|Ax_T-b|^2$ for c = 15 is: 0.002448971584146125\n",
            "The indexes of the c = 15 largest number in the set $\\{x_T^{(k)},k=1,\\cdots,n\\}$ is: \n",
            "104 217 362 372 451 477 520 523 538 619 629 767 789 863 990 \n"
          ]
        }
      ],
      "source": [
        "if __name__ == \"__main__\":\n",
        "    problem2_7()"
      ]
    },
    {
      "cell_type": "code",
      "execution_count": 7,
      "metadata": {
        "id": "lH_eWcmw4MpS"
      },
      "outputs": [],
      "source": [
        "def projected_GD(A, b, c, alpha):\n",
        "    x = np.zeros(A.shape[1])\n",
        "    for t in range(100000):\n",
        "        grad = np.dot(A.T, np.dot(A,x)-b)\n",
        "        x = project(x-alpha*grad, c)\n",
        "    return x\n",
        "\n",
        "def problem2_8():\n",
        "    A = pd.read_csv('homework4_data/project4_regression_A-1.csv')\n",
        "    A = A.drop(['Unnamed: 0'], axis = 1).to_numpy()\n",
        "    A = np.squeeze(A)\n",
        "    b = pd.read_csv('homework4_data/project4_regression_b.csv')\n",
        "    b = b.drop(['Unnamed: 0'], axis = 1).to_numpy()\n",
        "    b = np.squeeze(b)\n",
        "    list_c = [5, 10, 15]\n",
        "    list_alpha = [1e-3, 1e-3, 1e-4]\n",
        "    for i in range(len(list_c)):\n",
        "        c = list_c[i]\n",
        "        alpha = list_alpha[i]\n",
        "        x_T = projected_GD(A, b, c, alpha)\n",
        "        print(\"The value of \" + r'$|Ax_T-b|^2$' + \" for c = \" + str(c) + \" is: \" \n",
        "              + str(np.linalg.norm(np.dot(A,x_T)-b)**2))\n",
        "        list_max_x_T = np.sort(x_T)[-c:]\n",
        "        print(\"The indexes of the c = \" + str(c) + \" largest number in the set \" \n",
        "              + r'$\\{x_T^{(k)},k=1,\\cdots,n\\}$' + \" is: \")\n",
        "        for k in range(A.shape[1]):\n",
        "            if x_T[k] in list_max_x_T:\n",
        "                print(k, end = \" \")\n",
        "        print()"
      ]
    },
    {
      "cell_type": "code",
      "execution_count": 8,
      "metadata": {
        "id": "MCJm-4GB4X11",
        "colab": {
          "base_uri": "https://localhost:8080/",
          "height": 478
        },
        "outputId": "72c663d0-ab70-445b-8842-6082991f54f6"
      },
      "outputs": [
        {
          "output_type": "stream",
          "name": "stdout",
          "text": [
            "The value of $|Ax_T-b|^2$ for c = 5 is: 1361.2936662674565\n",
            "The indexes of the c = 5 largest number in the set $\\{x_T^{(k)},k=1,\\cdots,n\\}$ is: \n",
            "104 362 372 619 767 \n",
            "The value of $|Ax_T-b|^2$ for c = 10 is: 42.699437957778756\n",
            "The indexes of the c = 10 largest number in the set $\\{x_T^{(k)},k=1,\\cdots,n\\}$ is: \n",
            "104 362 372 451 477 538 619 629 767 789 \n"
          ]
        },
        {
          "output_type": "stream",
          "name": "stderr",
          "text": [
            "<ipython-input-1-af43e24f1bee>:24: RuntimeWarning: invalid value encountered in double_scalars\n",
            "  return lmda_0 + ((c - func_f(y, lmda_0))/(func_f(y, lmda_0) - func_f(y, lmda_1))) * (lmda_0 - lmda_1)\n"
          ]
        },
        {
          "output_type": "error",
          "ename": "ValueError",
          "evalue": "ignored",
          "traceback": [
            "\u001b[0;31m---------------------------------------------------------------------------\u001b[0m",
            "\u001b[0;31mValueError\u001b[0m                                Traceback (most recent call last)",
            "\u001b[0;32m<ipython-input-8-4c2dd0f5d193>\u001b[0m in \u001b[0;36m<cell line: 1>\u001b[0;34m()\u001b[0m\n\u001b[1;32m      1\u001b[0m \u001b[0;32mif\u001b[0m \u001b[0m__name__\u001b[0m \u001b[0;34m==\u001b[0m \u001b[0;34m\"__main__\"\u001b[0m\u001b[0;34m:\u001b[0m\u001b[0;34m\u001b[0m\u001b[0;34m\u001b[0m\u001b[0m\n\u001b[0;32m----> 2\u001b[0;31m     \u001b[0mproblem2_8\u001b[0m\u001b[0;34m(\u001b[0m\u001b[0;34m)\u001b[0m\u001b[0;34m\u001b[0m\u001b[0;34m\u001b[0m\u001b[0m\n\u001b[0m",
            "\u001b[0;32m<ipython-input-7-ee70946e7848>\u001b[0m in \u001b[0;36mproblem2_8\u001b[0;34m()\u001b[0m\n\u001b[1;32m     18\u001b[0m         \u001b[0mc\u001b[0m \u001b[0;34m=\u001b[0m \u001b[0mlist_c\u001b[0m\u001b[0;34m[\u001b[0m\u001b[0mi\u001b[0m\u001b[0;34m]\u001b[0m\u001b[0;34m\u001b[0m\u001b[0;34m\u001b[0m\u001b[0m\n\u001b[1;32m     19\u001b[0m         \u001b[0malpha\u001b[0m \u001b[0;34m=\u001b[0m \u001b[0mlist_alpha\u001b[0m\u001b[0;34m[\u001b[0m\u001b[0mi\u001b[0m\u001b[0;34m]\u001b[0m\u001b[0;34m\u001b[0m\u001b[0;34m\u001b[0m\u001b[0m\n\u001b[0;32m---> 20\u001b[0;31m         \u001b[0mx_T\u001b[0m \u001b[0;34m=\u001b[0m \u001b[0mprojected_GD\u001b[0m\u001b[0;34m(\u001b[0m\u001b[0mA\u001b[0m\u001b[0;34m,\u001b[0m \u001b[0mb\u001b[0m\u001b[0;34m,\u001b[0m \u001b[0mc\u001b[0m\u001b[0;34m,\u001b[0m \u001b[0malpha\u001b[0m\u001b[0;34m)\u001b[0m\u001b[0;34m\u001b[0m\u001b[0;34m\u001b[0m\u001b[0m\n\u001b[0m\u001b[1;32m     21\u001b[0m         print(\"The value of \" + r'$|Ax_T-b|^2$' + \" for c = \" + str(c) + \" is: \" \n\u001b[1;32m     22\u001b[0m               + str(np.linalg.norm(np.dot(A,x_T)-b)**2))\n",
            "\u001b[0;32m<ipython-input-7-ee70946e7848>\u001b[0m in \u001b[0;36mprojected_GD\u001b[0;34m(A, b, c, alpha)\u001b[0m\n\u001b[1;32m      3\u001b[0m     \u001b[0;32mfor\u001b[0m \u001b[0mt\u001b[0m \u001b[0;32min\u001b[0m \u001b[0mrange\u001b[0m\u001b[0;34m(\u001b[0m\u001b[0;36m100000\u001b[0m\u001b[0;34m)\u001b[0m\u001b[0;34m:\u001b[0m\u001b[0;34m\u001b[0m\u001b[0;34m\u001b[0m\u001b[0m\n\u001b[1;32m      4\u001b[0m         \u001b[0mgrad\u001b[0m \u001b[0;34m=\u001b[0m \u001b[0mnp\u001b[0m\u001b[0;34m.\u001b[0m\u001b[0mdot\u001b[0m\u001b[0;34m(\u001b[0m\u001b[0mA\u001b[0m\u001b[0;34m.\u001b[0m\u001b[0mT\u001b[0m\u001b[0;34m,\u001b[0m \u001b[0mnp\u001b[0m\u001b[0;34m.\u001b[0m\u001b[0mdot\u001b[0m\u001b[0;34m(\u001b[0m\u001b[0mA\u001b[0m\u001b[0;34m,\u001b[0m\u001b[0mx\u001b[0m\u001b[0;34m)\u001b[0m\u001b[0;34m-\u001b[0m\u001b[0mb\u001b[0m\u001b[0;34m)\u001b[0m\u001b[0;34m\u001b[0m\u001b[0;34m\u001b[0m\u001b[0m\n\u001b[0;32m----> 5\u001b[0;31m         \u001b[0mx\u001b[0m \u001b[0;34m=\u001b[0m \u001b[0mproject\u001b[0m\u001b[0;34m(\u001b[0m\u001b[0mx\u001b[0m\u001b[0;34m-\u001b[0m\u001b[0malpha\u001b[0m\u001b[0;34m*\u001b[0m\u001b[0mgrad\u001b[0m\u001b[0;34m,\u001b[0m \u001b[0mc\u001b[0m\u001b[0;34m)\u001b[0m\u001b[0;34m\u001b[0m\u001b[0;34m\u001b[0m\u001b[0m\n\u001b[0m\u001b[1;32m      6\u001b[0m     \u001b[0;32mreturn\u001b[0m \u001b[0mx\u001b[0m\u001b[0;34m\u001b[0m\u001b[0;34m\u001b[0m\u001b[0m\n\u001b[1;32m      7\u001b[0m \u001b[0;34m\u001b[0m\u001b[0m\n",
            "\u001b[0;32m<ipython-input-1-af43e24f1bee>\u001b[0m in \u001b[0;36mproject\u001b[0;34m(y, c)\u001b[0m\n\u001b[1;32m     25\u001b[0m \u001b[0;34m\u001b[0m\u001b[0m\n\u001b[1;32m     26\u001b[0m \u001b[0;32mdef\u001b[0m \u001b[0mproject\u001b[0m\u001b[0;34m(\u001b[0m\u001b[0my\u001b[0m\u001b[0;34m,\u001b[0m \u001b[0mc\u001b[0m\u001b[0;34m)\u001b[0m\u001b[0;34m:\u001b[0m\u001b[0;34m\u001b[0m\u001b[0;34m\u001b[0m\u001b[0m\n\u001b[0;32m---> 27\u001b[0;31m     \u001b[0mlmda\u001b[0m \u001b[0;34m=\u001b[0m \u001b[0mfind_lambda\u001b[0m\u001b[0;34m(\u001b[0m\u001b[0my\u001b[0m\u001b[0;34m,\u001b[0m \u001b[0mc\u001b[0m\u001b[0;34m)\u001b[0m\u001b[0;34m\u001b[0m\u001b[0;34m\u001b[0m\u001b[0m\n\u001b[0m\u001b[1;32m     28\u001b[0m     \u001b[0mx\u001b[0m \u001b[0;34m=\u001b[0m \u001b[0mnp\u001b[0m\u001b[0;34m.\u001b[0m\u001b[0mabs\u001b[0m\u001b[0;34m(\u001b[0m\u001b[0my\u001b[0m\u001b[0;34m)\u001b[0m \u001b[0;34m-\u001b[0m \u001b[0mlmda\u001b[0m\u001b[0;34m\u001b[0m\u001b[0;34m\u001b[0m\u001b[0m\n\u001b[1;32m     29\u001b[0m     \u001b[0mx\u001b[0m \u001b[0;34m=\u001b[0m \u001b[0mx\u001b[0m \u001b[0;34m*\u001b[0m \u001b[0;34m(\u001b[0m\u001b[0mx\u001b[0m \u001b[0;34m>=\u001b[0m \u001b[0;36m0\u001b[0m\u001b[0;34m)\u001b[0m\u001b[0;34m\u001b[0m\u001b[0;34m\u001b[0m\u001b[0m\n",
            "\u001b[0;32m<ipython-input-1-af43e24f1bee>\u001b[0m in \u001b[0;36mfind_lambda\u001b[0;34m(y, c)\u001b[0m\n\u001b[1;32m     15\u001b[0m         \u001b[0;32mif\u001b[0m \u001b[0mtmp\u001b[0m \u001b[0;34m<=\u001b[0m \u001b[0mc\u001b[0m\u001b[0;34m:\u001b[0m\u001b[0;34m\u001b[0m\u001b[0;34m\u001b[0m\u001b[0m\n\u001b[1;32m     16\u001b[0m             \u001b[0mlist_lmd_1\u001b[0m\u001b[0;34m.\u001b[0m\u001b[0mappend\u001b[0m\u001b[0;34m(\u001b[0m\u001b[0mnp\u001b[0m\u001b[0;34m.\u001b[0m\u001b[0mabs\u001b[0m\u001b[0;34m(\u001b[0m\u001b[0my\u001b[0m\u001b[0;34m[\u001b[0m\u001b[0mi\u001b[0m\u001b[0;34m]\u001b[0m\u001b[0;34m)\u001b[0m\u001b[0;34m)\u001b[0m\u001b[0;34m\u001b[0m\u001b[0;34m\u001b[0m\u001b[0m\n\u001b[0;32m---> 17\u001b[0;31m     \u001b[0mlmda_1\u001b[0m \u001b[0;34m=\u001b[0m \u001b[0mmin\u001b[0m\u001b[0;34m(\u001b[0m\u001b[0mlist_lmd_1\u001b[0m\u001b[0;34m)\u001b[0m\u001b[0;34m\u001b[0m\u001b[0;34m\u001b[0m\u001b[0m\n\u001b[0m\u001b[1;32m     18\u001b[0m     \u001b[0;32mif\u001b[0m \u001b[0mlen\u001b[0m\u001b[0;34m(\u001b[0m\u001b[0mlist_lmd_0\u001b[0m\u001b[0;34m)\u001b[0m \u001b[0;34m!=\u001b[0m \u001b[0;36m0\u001b[0m\u001b[0;34m:\u001b[0m\u001b[0;34m\u001b[0m\u001b[0;34m\u001b[0m\u001b[0m\n\u001b[1;32m     19\u001b[0m         \u001b[0mlmda_0\u001b[0m \u001b[0;34m=\u001b[0m \u001b[0mmax\u001b[0m\u001b[0;34m(\u001b[0m\u001b[0mlist_lmd_0\u001b[0m\u001b[0;34m)\u001b[0m\u001b[0;34m\u001b[0m\u001b[0;34m\u001b[0m\u001b[0m\n",
            "\u001b[0;31mValueError\u001b[0m: min() arg is an empty sequence"
          ]
        }
      ],
      "source": [
        "if __name__ == \"__main__\":\n",
        "    problem2_8()"
      ]
    }
  ],
  "metadata": {
    "colab": {
      "provenance": []
    },
    "kernelspec": {
      "display_name": "Python 3",
      "name": "python3"
    },
    "language_info": {
      "name": "python"
    }
  },
  "nbformat": 4,
  "nbformat_minor": 0
}